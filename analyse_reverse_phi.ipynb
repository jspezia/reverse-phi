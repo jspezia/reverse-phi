{
 "metadata": {
  "name": "",
  "signature": "sha256:34be52a78f9ebefa53bc517ed9891a161eed358ca0b7557b963af896730b8d9d"
 },
 "nbformat": 3,
 "nbformat_minor": 0,
 "worksheets": [
  {
   "cells": [
    {
     "cell_type": "heading",
     "level": 1,
     "metadata": {},
     "source": [
      "Analysis of a Discrimination Experiment"
     ]
    },
    {
     "cell_type": "markdown",
     "metadata": {},
     "source": [
      "In the ``main.py`` script, we implemented an experiment to test whether one could discriminate the direction in a phi or reverse phi experiment."
     ]
    },
    {
     "cell_type": "markdown",
     "metadata": {},
     "source": [
      "Herein, we analyse the data that was collected over different sessions and try to draw some conclusions."
     ]
    },
    {
     "cell_type": "code",
     "collapsed": false,
     "input": [
      "import numpy as np\n",
      "np.set_printoptions(precision=3, suppress=True)\n",
      "import pylab\n",
      "import matplotlib.pyplot as plt\n",
      "%matplotlib inline"
     ],
     "language": "python",
     "metadata": {},
     "outputs": [],
     "prompt_number": 1
    },
    {
     "cell_type": "heading",
     "level": 2,
     "metadata": {},
     "source": [
      "Analysis"
     ]
    },
    {
     "cell_type": "markdown",
     "metadata": {},
     "source": [
      "In a first version of the experiment, we only stored the results in a numpy file:\n",
      "        results[0, i_trial] = ans\n",
      "        results[1, i_trial] = param.contrast # 1 for phi, -1 for reverse-phi\n",
      "        results[2, i_trial] = param.shift\n",
      "        results[3, i_trial] = delay\n",
      "        results[4, i_trial] = param.figure"
     ]
    },
    {
     "cell_type": "code",
     "collapsed": false,
     "input": [
      "!ls results"
     ],
     "language": "python",
     "metadata": {},
     "outputs": [
      {
       "output_type": "stream",
       "stream": "stdout",
       "text": [
        "Reverse-phi experiment_none_21_Nov_18h31.npy\r\n",
        "Reverse-phi experiment_none_21_Nov_18h31.pickle\r\n",
        "Reverse-phi experiment_none_21_Nov_18h32.npy\r\n",
        "Reverse-phi experiment_none_21_Nov_18h32.pickle\r\n",
        "Reverse-phi experiment_none_21_Nov_18h36.npy\r\n",
        "Reverse-phi experiment_none_21_Nov_18h36.pickle\r\n",
        "Reverse-phi experiment_none_23_Nov_15h11.npy\r\n",
        "Reverse-phi experiment_none_23_Nov_15h11.pickle\r\n",
        "Reverse-phi experiment_none_23_Nov_15h17.pickle\r\n",
        "Reverse-phi experiment_none_23_Nov_15h29.pickle\r\n",
        "Reverse-phi experiment_none_23_Nov_15h31.npy\r\n",
        "Reverse-phi experiment_none_23_Nov_15h31.pickle\r\n",
        "Reverse-phi experiment_none_23_Nov_15h35.pickle\r\n",
        "Reverse-phi experiment_none_23_Nov_16h00.npy\r\n",
        "Reverse-phi experiment_none_23_Nov_16h00.pickle\r\n",
        "Reverse-phi experiment_none_23_Nov_16h01.pickle\r\n",
        "Reverse-phi experiment_none_23_Nov_16h22.pickle\r\n",
        "Reverse-phi experiment_none_23_Nov_16h28.npy\r\n",
        "Reverse-phi experiment_none_23_Nov_16h28.pickle\r\n",
        "Reverse-phi experiment_none_23_Nov_16h30.npy\r\n",
        "Reverse-phi experiment_none_23_Nov_16h30.pickle\r\n",
        "Reverse-phi experiment_none_24_Nov_10h56.npy\r\n",
        "Reverse-phi experiment_none_24_Nov_10h56.pickle\r\n",
        "Reverse-phi experiment_none_24_Nov_10h57.npy\r\n",
        "Reverse-phi experiment_none_24_Nov_10h57.pickle\r\n",
        "Reverse-phi experiment_none_24_Nov_12h14.npy\r\n",
        "Reverse-phi experiment_none_24_Nov_12h14.pickle\r\n",
        "Reverse-phi-experiment_none_24_Nov_15h21.npy\r\n",
        "Reverse-phi-experiment_none_24_Nov_15h21.pickle\r\n",
        "Reverse-phi-experiment_none_24_Nov_18h04.npy\r\n",
        "Reverse-phi-experiment_none_24_Nov_18h04.pickle\r\n"
       ]
      }
     ],
     "prompt_number": 2
    },
    {
     "cell_type": "code",
     "collapsed": false,
     "input": [
      "import glob\n",
      "from psychopy import misc\n",
      "fig = plt.figure()\n",
      "ax = fig.add_subplot(111)\n",
      "for fn in glob.glob('results/Reverse-phi-experiment_none_24_Nov_15h21.npy'):\n",
      "    data = misc.fromFile(fn.replace('npy', 'pickle'))\n",
      "    print data\n",
      "    results = np.load(fn)\n",
      "    print 'experiment ', fn, ', # trials=', results.shape[1]\n",
      "    ax.scatter(results[2, :], results[0, :])\n",
      "#_ = ax.axis([0., 1., -1.1, 1.1])\n",
      "_ = ax.set_xlabel('shift')\n",
      "_ = ax.set_ylabel('perceived direction')"
     ],
     "language": "python",
     "metadata": {},
     "outputs": [
      {
       "output_type": "stream",
       "stream": "stdout",
       "text": [
        "[u'none', 1280, 800, 512, 512, 512, 512, 500, 0.1, 0.2, 20.0]\n",
        "experiment  results/Reverse-phi-experiment_none_24_Nov_15h21.npy , # trials= 500\n"
       ]
      },
      {
       "metadata": {},
       "output_type": "display_data",
       "png": "[encoded data removed]",
       "text": [
        "<matplotlib.figure.Figure at 0x10fb1c310>"
       ]
      }
     ],
     "prompt_number": 11
    },
    {
     "cell_type": "code",
     "collapsed": false,
     "input": [
      "plt.hist(results[2,:])"
     ],
     "language": "python",
     "metadata": {},
     "outputs": [
      {
       "metadata": {},
       "output_type": "pyout",
       "prompt_number": 12,
       "text": [
        "(array([   2.,    1.,   16.,   48.,   99.,  138.,  112.,   62.,   17.,    5.]),\n",
        " array([-74.447, -61.079, -47.71 , -34.342, -20.974,  -7.605,   5.763,\n",
        "         19.132,  32.5  ,  45.869,  59.237]),\n",
        " <a list of 10 Patch objects>)"
       ]
      },
      {
       "metadata": {},
       "output_type": "display_data",
       "png": "[encoded data removed]",
       "text": [
        "<matplotlib.figure.Figure at 0x10fb27450>"
       ]
      }
     ],
     "prompt_number": 12
    },
    {
     "cell_type": "code",
     "collapsed": false,
     "input": [
      "alpha = .3\n",
      "fig = plt.figure(figsize=(12,5))\n",
      "ax1 = fig.add_subplot(121)\n",
      "ax2 = fig.add_subplot(122)\n",
      "data = []\n",
      "for fn in glob.glob('results/Reverse-phi-experiment_none_24_Nov_15h21.npy'):\n",
      "    results = np.load(fn)\n",
      "    # phi motion\n",
      "    ind_phi = results[1, :]==1\n",
      "    for i_fig, color in zip(range(1,4), ['r', 'g', 'b']):\n",
      "        ind_fig = results[4, ind_phi] == i_fig\n",
      "        ax1.scatter(results[2, ind_phi][ind_fig], results[0, ind_phi][ind_fig] * (.8 + .1*i_fig), c=color, alpha=alpha)\n",
      "    ax1.vlines([0], ymin=-1, ymax=1)\n",
      "    # reverse phi motion\n",
      "    ind_rphi = results[1, :]==-1\n",
      "    for i_fig, color, label in zip(range(1,4), ['r', 'g', 'b'], ['binary', 'MC', 'natural']):\n",
      "        ind_fig = results[4, ind_rphi] == i_fig\n",
      "        ax2.scatter(results[2, ind_rphi][ind_fig], results[0, ind_rphi][ind_fig] * (.8 + .1*i_fig), c=color, alpha=alpha, label=label)\n",
      "    ax2.vlines([0], ymin=-1, ymax=1)\n",
      "for ax in [ax1, ax2]:\n",
      "    ax.axis([-2*results[2, :].std(), 2*results[2, :].std(), -1.15, 1.15])\n",
      "    _ = ax.set_xlabel('shift')\n",
      "    _ = ax.set_ylabel('perceived direction')\n",
      "_ = ax2.set_ylabel('perceived direction')\n",
      "_ = ax2.legend(loc='right')"
     ],
     "language": "python",
     "metadata": {},
     "outputs": [
      {
       "metadata": {},
       "output_type": "display_data",
       "png": "[encoded data removed]",
       "text": [
        "<matplotlib.figure.Figure at 0x10f947810>"
       ]
      }
     ],
     "prompt_number": 8
    },
    {
     "cell_type": "heading",
     "level": 2,
     "metadata": {},
     "source": [
      "Psychometric curves"
     ]
    },
    {
     "cell_type": "markdown",
     "metadata": {},
     "source": [
      "Let's discretize the shift range and compute experimental psychometric curves."
     ]
    },
    {
     "cell_type": "code",
     "collapsed": false,
     "input": [
      "N_bin = 10\n",
      "shift_bin = np.linspace(-2*results[2, :].std(), 2*results[2, :].std(), N_bin+1)\n",
      "#print shift_bin\n",
      "psy = np.ones((N_bin, 2, 3)) * .5\n",
      "for fn in glob.glob('results/Reverse-phi-experiment_none_24_Nov_15h21.npy'):\n",
      "    results = np.load(fn)\n",
      "    for i_bin in range(N_bin):\n",
      "        for i_phi, phi in enumerate([1, -1]):\n",
      "            # phi motion\n",
      "            ind_phi = results[1, :] == phi\n",
      "            for i_fig in range(1,4):\n",
      "                ind_fig = results[4, ind_phi] == i_fig\n",
      "                ind_shift = shift_bin[i_bin] < results[2, ind_phi][ind_fig] #< shift_bin[i_bin]\n",
      "                ind_shift *= results[2, ind_phi][ind_fig] <= shift_bin[i_bin+1]\n",
      "                #print ind_shift.shape\n",
      "                psy[i_bin, i_phi, i_fig-1] = results[0, ind_phi][ind_fig][ind_shift].mean()\n",
      "\n",
      "    shift_middles = (shift_bin[:-1] + shift_bin[1:])/2.\n",
      "    #print shift_bin.shape,  shift_middles.shape\n",
      "    alpha = .8\n",
      "    fig = plt.figure(figsize=(12,5))\n",
      "    ax1 = fig.add_subplot(121)\n",
      "    ax2 = fig.add_subplot(122)\n",
      "\n",
      "    for i_fig, color in zip(range(1,4), ['r', 'g', 'b']):\n",
      "        ax1.plot(shift_middles, psy[:, 0, i_fig-1] * (.8 + .1*i_fig), c=color, alpha=alpha)\n",
      "    ax1.vlines([0], ymin=-1, ymax=1)\n",
      "    # reverse phi motion\n",
      "    for i_fig, color, label in zip(range(1,4), ['r', 'g', 'b'], ['binary', 'MC', 'natural']):\n",
      "        ax2.plot(shift_middles, psy[:, 1, i_fig-1] * (.8 + .1*i_fig), c=color, alpha=alpha, label=label)\n",
      "    ax2.vlines([0], ymin=-1, ymax=1)\n",
      "for ax in [ax1, ax2]:\n",
      "    ax.axis([-2*results[2, :].std(), 2*results[2, :].std(), -1.15, 1.15])\n",
      "    _ = ax.set_xlabel('shift')\n",
      "    _ = ax.set_ylabel('perceived direction')\n",
      "_ = ax2.set_ylabel('perceived direction')\n",
      "_ = ax2.legend(loc='right')"
     ],
     "language": "python",
     "metadata": {},
     "outputs": [
      {
       "metadata": {},
       "output_type": "display_data",
       "png": "[encoded data removed]",
       "text": [
        "<matplotlib.figure.Figure at 0x10fad4d90>"
       ]
      }
     ],
     "prompt_number": 9
    },
    {
     "cell_type": "code",
     "collapsed": false,
     "input": [
      "import numpy as np\n",
      "import pylab\n",
      "from scipy.optimize import curve_fit\n",
      " \n",
      "def sigmoid(c, c0, k):\n",
      "    y = 1 / (1 + np.exp(-k*(c-c0)))\n",
      "    return y"
     ],
     "language": "python",
     "metadata": {},
     "outputs": [],
     "prompt_number": 13
    },
    {
     "cell_type": "code",
     "collapsed": false,
     "input": [],
     "language": "python",
     "metadata": {},
     "outputs": []
    },
    {
     "cell_type": "code",
     "collapsed": false,
     "input": [
      "for fn in glob.glob('results/Reverse-phi-experiment_none_24_Nov_15h21.npy'):\n",
      "    results = np.load(fn)\n",
      "#     fig1 = np.zeros((results[0, :].shape, results[4, :].shape))\n",
      "#     fig1[0, :] = results[0, :] * (results[4, :] == 1)\n",
      "#     fig1[1, :] = results[2, :] * (results[4, :] == 1)\n",
      "    cdata, ydata = results[2, :], .5*results[0, : ]+.5\n",
      "    pylab.plot(cdata, ydata, 'o')\n",
      "    popt, pcov = curve_fit(sigmoid, cdata, ydata)\n",
      "    print popt\n",
      "    c = np.linspace(-40, 40, 50)\n",
      "    y = sigmoid(c, *popt)\n",
      "    pylab.plot(c, y)\n",
      "    \n",
      "pylab.ylim(-.05, 1.05)\n",
      "pylab.legend(loc='best')"
     ],
     "language": "python",
     "metadata": {},
     "outputs": [
      {
       "output_type": "stream",
       "stream": "stdout",
       "text": [
        "[ 2.14   0.027]\n"
       ]
      },
      {
       "metadata": {},
       "output_type": "display_data",
       "png": "[encoded data removed]",
       "text": [
        "<matplotlib.figure.Figure at 0x10d41e7d0>"
       ]
      }
     ],
     "prompt_number": 25
    },
    {
     "cell_type": "code",
     "collapsed": false,
     "input": [],
     "language": "python",
     "metadata": {},
     "outputs": []
    },
    {
     "cell_type": "code",
     "collapsed": false,
     "input": [],
     "language": "python",
     "metadata": {},
     "outputs": []
    },
    {
     "cell_type": "code",
     "collapsed": false,
     "input": [
      "import numpy as np\n",
      "np.set_printoptions(precision=3, suppress=True)\n",
      "import pylab\n",
      "import matplotlib.pyplot as plt\n",
      "%matplotlib inline"
     ],
     "language": "python",
     "metadata": {},
     "outputs": [],
     "prompt_number": 1
    },
    {
     "cell_type": "code",
     "collapsed": false,
     "input": [
      "import glob\n",
      "import pandas as pd\n",
      "fig = plt.figure()\n",
      "ax = fig.add_subplot(111)\n",
      "init = 0\n",
      "for fn in glob.glob('results2/*.csv'):\n",
      "    df = pd.read_csv(fn)\n",
      "    if (init == 1):\n",
      "        a = np.asarray(df)\n",
      "        all_data = np.concatenate((a, all_data))\n",
      "    else:\n",
      "        init = 1\n",
      "        all_data = np.asarray(df)\n",
      "print all_data\n",
      "        #     ax.scatter(results[2, :], results[0, :])\n",
      "# #_ = ax.axis([0., 1., -1.1, 1.1])\n",
      "# _ = ax.set_xlabel('shift')\n",
      "# _ = ax.set_ylabel('perceived direction')"
     ],
     "language": "python",
     "metadata": {},
     "outputs": [
      {
       "output_type": "stream",
       "stream": "stdout",
       "text": [
        "[[  1.     -1.     14.076   0.717   2.   ]\n",
        " [  1.      1.     28.48    0.246   2.   ]\n",
        " [ -1.      1.    -44.465   0.205   1.   ]\n",
        " [ -1.      1.    -38.513   0.151   2.   ]\n",
        " [ -1.     -1.      3.051   0.225   3.   ]\n",
        " [ -1.     -1.      6.542   0.392   2.   ]\n",
        " [ -1.     -1.     -9.314   0.192   3.   ]\n",
        " [  1.      1.     11.461   0.155   2.   ]\n",
        " [ -1.      1.     36.426   0.294   1.   ]\n",
        " [  1.      1.      2.328   0.169   2.   ]\n",
        " [  1.      1.      7.613   0.226   2.   ]\n",
        " [  1.      1.    -27.978   0.133   3.   ]\n",
        " [  1.     -1.    -17.715   0.283   1.   ]\n",
        " [ -1.     -1.     17.746   0.1     3.   ]\n",
        " [ -1.      1.     40.236   0.337   1.   ]\n",
        " [ -1.     -1.    -42.684   0.317   3.   ]\n",
        " [  1.      1.     23.414   0.139   3.   ]\n",
        " [  1.      1.      2.99    0.131   2.   ]\n",
        " [ -1.     -1.      6.237   0.539   1.   ]\n",
        " [  1.     -1.     -4.174   0.157   3.   ]\n",
        " [  1.      1.     20.835   0.214   1.   ]\n",
        " [ -1.     -1.    -23.333   0.301   3.   ]\n",
        " [ -1.      1.     -7.708   0.207   1.   ]\n",
        " [ -1.     -1.    -38.752   0.232   2.   ]\n",
        " [  1.     -1.     -6.984   0.508   2.   ]\n",
        " [ -1.      1.    -37.141   0.508   1.   ]\n",
        " [ -1.      1.     30.867   0.161   3.   ]\n",
        " [ -1.      1.    -41.714   0.275   1.   ]\n",
        " [ -1.     -1.      1.102   0.184   2.   ]\n",
        " [ -1.      1.     -1.842   0.247   1.   ]\n",
        " [  1.     -1.     -6.357   0.2     1.   ]\n",
        " [ -1.     -1.    -25.993   0.202   1.   ]\n",
        " [ -1.      1.    -33.029   0.135   2.   ]\n",
        " [  1.      1.      3.315   0.128   3.   ]\n",
        " [  1.     -1.    -11.862   0.273   2.   ]\n",
        " [ -1.     -1.    -44.189   0.387   2.   ]\n",
        " [ -1.     -1.     22.784   0.196   1.   ]\n",
        " [ -1.     -1.    -28.66    0.263   1.   ]\n",
        " [  1.      1.     10.797   0.217   1.   ]\n",
        " [  1.     -1.     38.392   0.322   2.   ]]\n"
       ]
      },
      {
       "metadata": {},
       "output_type": "display_data",
       "png": "[encoded data removed]",
       "text": [
        "<matplotlib.figure.Figure at 0x104b18b90>"
       ]
      }
     ],
     "prompt_number": 2
    },
    {
     "cell_type": "code",
     "collapsed": false,
     "input": [],
     "language": "python",
     "metadata": {},
     "outputs": []
    },
    {
     "cell_type": "code",
     "collapsed": false,
     "input": [
      "import numpy as np\n",
      "np.set_printoptions(precision=3, suppress=True)\n",
      "import pylab\n",
      "import matplotlib.pyplot as plt\n",
      "%matplotlib inline"
     ],
     "language": "python",
     "metadata": {},
     "outputs": [],
     "prompt_number": 1
    },
    {
     "cell_type": "code",
     "collapsed": false,
     "input": [
      "import glob\n",
      "import pandas as pd\n",
      "init = 0\n",
      "for fn in glob.glob('results2/*.csv'):\n",
      "    df = pd.read_csv(fn)\n",
      "    if (init == 1):\n",
      "        a = np.asarray(df)\n",
      "        all_data = np.concatenate((a, all_data))\n",
      "        #all_data = pd.concat(df, all_data)\n",
      "    else:\n",
      "        init = 1\n",
      "        #all_data = df[:]\n",
      "        all_data = np.asarray(df)\n",
      "\n",
      "dt = pd.DataFrame(all_data)#, columns=['ans', 'contrast', 'shift', 'delay', 'figure'])\n",
      "#print dt\n",
      "Sorted = dt.sort(4)\n",
      "print Sorted"
     ],
     "language": "python",
     "metadata": {},
     "outputs": [
      {
       "output_type": "stream",
       "stream": "stdout",
       "text": [
        "    0  1          2         3  4\n",
        "29 -1  1  -1.841954  0.246699  1\n",
        "38  1  1  10.797105  0.216657  1\n",
        "18 -1 -1   6.236911  0.539472  1\n",
        "25 -1  1 -37.140653  0.508238  1\n",
        "14 -1  1  40.235926  0.337161  1\n",
        "27 -1  1 -41.713931  0.275238  1\n",
        "12  1 -1 -17.715049  0.282979  1\n",
        "20  1  1  20.834895  0.214267  1\n",
        "30  1 -1  -6.357359  0.199874  1\n",
        "22 -1  1  -7.707878  0.206775  1\n",
        "31 -1 -1 -25.992769  0.202156  1\n",
        "36 -1 -1  22.784189  0.196479  1\n",
        "2  -1  1 -44.465305  0.205371  1\n",
        "37 -1 -1 -28.659685  0.263295  1\n",
        "8  -1  1  36.426372  0.294055  1\n",
        "28 -1 -1   1.102479  0.183525  2\n",
        "32 -1  1 -33.029210  0.134513  2\n",
        "34  1 -1 -11.861690  0.273172  2\n",
        "35 -1 -1 -44.188839  0.387496  2\n",
        "24  1 -1  -6.983697  0.508197  2\n",
        "23 -1 -1 -38.751563  0.231695  2\n",
        "0   1 -1  14.076071  0.717260  2\n",
        "39  1 -1  38.392266  0.321869  2\n",
        "17  1  1   2.989662  0.131240  2\n",
        "1   1  1  28.480481  0.246369  2\n",
        "3  -1  1 -38.512525  0.150806  2\n",
        "5  -1 -1   6.541839  0.392329  2\n",
        "9   1  1   2.327694  0.168576  2\n",
        "10  1  1   7.612917  0.226139  2\n",
        "7   1  1  11.461368  0.154854  2\n",
        "13 -1 -1  17.746185  0.099806  3\n",
        "21 -1 -1 -23.333406  0.301094  3\n",
        "6  -1 -1  -9.313616  0.191893  3\n",
        "33  1  1   3.314896  0.127890  3\n",
        "26 -1  1  30.866981  0.160558  3\n",
        "4  -1 -1   3.051381  0.225064  3\n",
        "15 -1 -1 -42.684030  0.316803  3\n",
        "16  1  1  23.413501  0.139200  3\n",
        "11  1  1 -27.978146  0.133027  3\n",
        "19  1 -1  -4.173733  0.157322  3\n"
       ]
      }
     ],
     "prompt_number": 26
    },
    {
     "cell_type": "code",
     "collapsed": false,
     "input": [
      "init = 0\n",
      "for fn in glob.glob('results2/*.csv'):\n",
      "    df = pd.read_csv(fn)\n",
      "    if (init == 1):\n",
      "        all_data = [df, all_data]\n",
      "        all_data = pd.concat(all_data)\n",
      "    else:\n",
      "        init = 1\n",
      "        all_data = df\n",
      "Sorted = all_data.sort(['shift'])\n",
      "print Sorted"
     ],
     "language": "python",
     "metadata": {},
     "outputs": [
      {
       "output_type": "stream",
       "stream": "stdout",
       "text": [
        "   ans  contrast      shift     delay  figure\n",
        "2   -1         1 -44.465305  0.205371       1\n",
        "5   -1        -1 -44.188839  0.387496       2\n",
        "5   -1        -1 -42.684030  0.316803       3\n",
        "7   -1         1 -41.713931  0.275238       1\n",
        "3   -1        -1 -38.751563  0.231695       2\n",
        "3   -1         1 -38.512525  0.150806       2\n",
        "5   -1         1 -37.140653  0.508238       1\n",
        "2   -1         1 -33.029210  0.134513       2\n",
        "7   -1        -1 -28.659685  0.263295       1\n",
        "1    1         1 -27.978146  0.133027       3\n",
        "1   -1        -1 -25.992769  0.202156       1\n",
        "1   -1        -1 -23.333406  0.301094       3\n",
        "2    1        -1 -17.715049  0.282979       1\n",
        "4    1        -1 -11.861690  0.273172       2\n",
        "6   -1        -1  -9.313616  0.191893       3\n",
        "2   -1         1  -7.707878  0.206775       1\n",
        "4    1        -1  -6.983697  0.508197       2\n",
        "0    1        -1  -6.357359  0.199874       1\n",
        "9    1        -1  -4.173733  0.157322       3\n",
        "9   -1         1  -1.841954  0.246699       1\n",
        "8   -1        -1   1.102479  0.183525       2\n",
        "9    1         1   2.327694  0.168576       2\n",
        "7    1         1   2.989662  0.131240       2\n",
        "4   -1        -1   3.051381  0.225064       3\n",
        "3    1         1   3.314896  0.127890       3\n",
        "8   -1        -1   6.236911  0.539472       1\n",
        "5   -1        -1   6.541839  0.392329       2\n",
        "0    1         1   7.612917  0.226139       2\n",
        "8    1         1  10.797105  0.216657       1\n",
        "7    1         1  11.461368  0.154854       2\n",
        "0    1        -1  14.076071  0.717260       2\n",
        "3   -1        -1  17.746185  0.099806       3\n",
        "0    1         1  20.834895  0.214267       1\n",
        "6   -1        -1  22.784189  0.196479       1\n",
        "6    1         1  23.413501  0.139200       3\n",
        "1    1         1  28.480481  0.246369       2\n",
        "6   -1         1  30.866981  0.160558       3\n",
        "8   -1         1  36.426372  0.294055       1\n",
        "9    1        -1  38.392266  0.321869       2\n",
        "4   -1         1  40.235926  0.337161       1\n"
       ]
      }
     ],
     "prompt_number": 60
    },
    {
     "cell_type": "code",
     "collapsed": false,
     "input": [
      "Sorted.loc[(Sorted['figure'] == 3)]"
     ],
     "language": "python",
     "metadata": {},
     "outputs": [
      {
       "html": [
        "<div style=\"max-height:1000px;max-width:1500px;overflow:auto;\">\n",
        "<table border=\"1\" class=\"dataframe\">\n",
        "  <thead>\n",
        "    <tr style=\"text-align: right;\">\n",
        "      <th></th>\n",
        "      <th>ans</th>\n",
        "      <th>contrast</th>\n",
        "      <th>shift</th>\n",
        "      <th>delay</th>\n",
        "      <th>figure</th>\n",
        "    </tr>\n",
        "  </thead>\n",
        "  <tbody>\n",
        "    <tr>\n",
        "      <th>5</th>\n",
        "      <td>-1</td>\n",
        "      <td>-1</td>\n",
        "      <td>-42.684030</td>\n",
        "      <td> 0.316803</td>\n",
        "      <td> 3</td>\n",
        "    </tr>\n",
        "    <tr>\n",
        "      <th>1</th>\n",
        "      <td> 1</td>\n",
        "      <td> 1</td>\n",
        "      <td>-27.978146</td>\n",
        "      <td> 0.133027</td>\n",
        "      <td> 3</td>\n",
        "    </tr>\n",
        "    <tr>\n",
        "      <th>1</th>\n",
        "      <td>-1</td>\n",
        "      <td>-1</td>\n",
        "      <td>-23.333406</td>\n",
        "      <td> 0.301094</td>\n",
        "      <td> 3</td>\n",
        "    </tr>\n",
        "    <tr>\n",
        "      <th>6</th>\n",
        "      <td>-1</td>\n",
        "      <td>-1</td>\n",
        "      <td> -9.313616</td>\n",
        "      <td> 0.191893</td>\n",
        "      <td> 3</td>\n",
        "    </tr>\n",
        "    <tr>\n",
        "      <th>9</th>\n",
        "      <td> 1</td>\n",
        "      <td>-1</td>\n",
        "      <td> -4.173733</td>\n",
        "      <td> 0.157322</td>\n",
        "      <td> 3</td>\n",
        "    </tr>\n",
        "    <tr>\n",
        "      <th>4</th>\n",
        "      <td>-1</td>\n",
        "      <td>-1</td>\n",
        "      <td>  3.051381</td>\n",
        "      <td> 0.225064</td>\n",
        "      <td> 3</td>\n",
        "    </tr>\n",
        "    <tr>\n",
        "      <th>3</th>\n",
        "      <td> 1</td>\n",
        "      <td> 1</td>\n",
        "      <td>  3.314896</td>\n",
        "      <td> 0.127890</td>\n",
        "      <td> 3</td>\n",
        "    </tr>\n",
        "    <tr>\n",
        "      <th>3</th>\n",
        "      <td>-1</td>\n",
        "      <td>-1</td>\n",
        "      <td> 17.746185</td>\n",
        "      <td> 0.099806</td>\n",
        "      <td> 3</td>\n",
        "    </tr>\n",
        "    <tr>\n",
        "      <th>6</th>\n",
        "      <td> 1</td>\n",
        "      <td> 1</td>\n",
        "      <td> 23.413501</td>\n",
        "      <td> 0.139200</td>\n",
        "      <td> 3</td>\n",
        "    </tr>\n",
        "    <tr>\n",
        "      <th>6</th>\n",
        "      <td>-1</td>\n",
        "      <td> 1</td>\n",
        "      <td> 30.866981</td>\n",
        "      <td> 0.160558</td>\n",
        "      <td> 3</td>\n",
        "    </tr>\n",
        "  </tbody>\n",
        "</table>\n",
        "</div>"
       ],
       "metadata": {},
       "output_type": "pyout",
       "prompt_number": 61,
       "text": [
        "   ans  contrast      shift     delay  figure\n",
        "5   -1        -1 -42.684030  0.316803       3\n",
        "1    1         1 -27.978146  0.133027       3\n",
        "1   -1        -1 -23.333406  0.301094       3\n",
        "6   -1        -1  -9.313616  0.191893       3\n",
        "9    1        -1  -4.173733  0.157322       3\n",
        "4   -1        -1   3.051381  0.225064       3\n",
        "3    1         1   3.314896  0.127890       3\n",
        "3   -1        -1  17.746185  0.099806       3\n",
        "6    1         1  23.413501  0.139200       3\n",
        "6   -1         1  30.866981  0.160558       3"
       ]
      }
     ],
     "prompt_number": 61
    },
    {
     "cell_type": "code",
     "collapsed": false,
     "input": [],
     "language": "python",
     "metadata": {},
     "outputs": []
    },
    {
     "cell_type": "code",
     "collapsed": false,
     "input": [
      "import matplotlib\n",
      "matplotlib.use(\"Agg\")\n",
      "\n",
      "import matplotlib.backends.backend_agg as agg\n",
      "\n",
      "\n",
      "import pylab\n",
      "\n",
      "fig = pylab.figure(figsize=[4, 4], # Inches\n",
      "                   dpi=100,        # 100 dots per inch, so the resulting buffer is 400x400 pixels\n",
      "                   )\n",
      "ax = fig.gca()\n",
      "ax.plot([1, 2, 4])\n",
      "\n",
      "canvas = agg.FigureCanvasAgg(fig)\n",
      "canvas.draw()\n",
      "renderer = canvas.get_renderer()\n",
      "raw_data = renderer.tostring_rgb()"
     ],
     "language": "python",
     "metadata": {},
     "outputs": [
      {
       "output_type": "stream",
       "stream": "stderr",
       "text": [
        "/usr/local/lib/python2.7/site-packages/matplotlib/__init__.py:1256: UserWarning:  This call to matplotlib.use() has no effect\n",
        "because the backend has already been chosen;\n",
        "matplotlib.use() must be called *before* pylab, matplotlib.pyplot,\n",
        "or matplotlib.backends is imported for the first time.\n",
        "\n",
        "  warnings.warn(_use_error_msg)\n"
       ]
      },
      {
       "metadata": {},
       "output_type": "display_data",
       "png": "[encoded data removed]",
       "text": [
        "<matplotlib.figure.Figure at 0x10a1a3ed0>"
       ]
      }
     ],
     "prompt_number": 62
    },
    {
     "cell_type": "code",
     "collapsed": false,
     "input": [],
     "language": "python",
     "metadata": {},
     "outputs": []
    }
   ],
   "metadata": {}
  }
 ]
}